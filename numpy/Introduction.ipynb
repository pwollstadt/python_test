{
 "metadata": {
  "name": "",
  "signature": "sha256:ab65021790909f771cceb29450cf5c8b788f5edc6196591142563de9942f80be"
 },
 "nbformat": 3,
 "nbformat_minor": 0,
 "worksheets": [
  {
   "cells": [
    {
     "cell_type": "markdown",
     "metadata": {},
     "source": [
      "##Example problem used\n",
      "\n",
      "(Source: Gorelick & Ozsvald - High Performance Python)\n",
      "\n",
      "The example used are partial differential equations describing the diffusion in liquids:\n",
      "\n",
      "\\begin{equation}\n",
      "    \\frac{\\partial}{\\partial t}u(x,y,t) = D \\cdot \\left( \\frac{\\partial^2}{\\partial x^2}u(x,y,t) + \\frac{\\partial^2}{\\partial y^2}u(x,y,t) \\right),\n",
      "\\end{equation}\n",
      "\n",
      "where $u$ is a 2D or 3D matrix representing an area or volume of fluid, where values between 0 and 1 indicate the level of mixing between two fluids; $D$ denotes physical properties of the simulated fluid, e.g., how easy it diffused in water. (This equation is also called *heat equation* and may describe how heat is transferred in a solid volume.)\n",
      "\n",
      "We solve this PDE using *Euler's method*, which approximates the above equation using discrete time and spaces, and uses the difference of derivatives (for a 2D matrix):\n",
      "\n",
      "\\begin{equation}\n",
      "    \\frac{\\partial}{\\partial t}u(x,t) \\approx \\frac{u(x,t + dt) + u(x,t)}{dt},\n",
      "\\end{equation}\n",
      "\n",
      "where $dt$ is a fixed time step.\n",
      "\n",
      "We are now interested in $u(x, t+dt)$, i.e., the value at a given point $x$ at the next time step. We can initialize $u(x,0)$ and evolve this equation; this is called the *Cauchy problem* and can be approximated by\n",
      "\n",
      "\\begin{equation}    \n",
      "    u(x,t + dt) = u(x,t) + dt * D * \\frac{u(x + dx,t) + u(x + dx,t) + 2 \\cdot u(x,t)}{dx^2}.\n",
      "\\end{equation}\n",
      "\n",
      "We will use *periodic boundary conditions*, i.e., the grid we're simulating on wraps around.\n",
      "\n",
      "##Code used\n",
      "\n",
      "(Source: https://github.com/mynameisfiber/high_performance_python)"
     ]
    },
    {
     "cell_type": "code",
     "collapsed": false,
     "input": [
      "#!/usr/bin/env python3.4\n",
      "\n",
      "from __future__ import division\n",
      "import time\n",
      "\n",
      "grid_shape = (512, 512)\n",
      "\n",
      "\n",
      "def evolve(grid, dt, D=1.0):\n",
      "    xmax, ymax = grid_shape\n",
      "    new_grid = [[0.0, ] * ymax] * xmax\n",
      "    for i in range(xmax):\n",
      "        for j in range(ymax):\n",
      "            grid_xx = grid[(i + 1) %\n",
      "                           xmax][j] + grid[(i - 1) %\n",
      "                                           xmax][j] - 2.0 * grid[i][j]\n",
      "            grid_yy = grid[i][(j + 1) % ymax] + \\\n",
      "                grid[i][(j - 1) % ymax] - 2.0 * grid[i][j]\n",
      "            new_grid[i][j] = grid[i][j] + D * (grid_xx + grid_yy) * dt\n",
      "    return grid\n",
      "\n",
      "\n",
      "def run_experiment(num_iterations):\n",
      "    # setting up initial conditions\n",
      "    xmax, ymax = grid_shape\n",
      "    grid = [[0.0, ] * ymax] * xmax\n",
      "\n",
      "    # initialization assumes that xmax <= ymax\n",
      "    block_low = int(xmax * .4)\n",
      "    block_high = int(xmax * .5)\n",
      "    for i in range(block_low, block_high):\n",
      "        for j in range(block_low, block_high):\n",
      "            grid[i][j] = 0.005\n",
      "\n",
      "    start = time.time()\n",
      "    for i in range(num_iterations):\n",
      "        grid = evolve(grid, 0.1)\n",
      "    return time.time() - start\n",
      "\n",
      "if __name__ == \"__main__\":\n",
      "    run_experiment(500)"
     ],
     "language": "python",
     "metadata": {},
     "outputs": [],
     "prompt_number": 4
    },
    {
     "cell_type": "markdown",
     "metadata": {},
     "source": [
      "(I changed the above code to run with Python 3 by replacing all `xrange` calls. In Python 2 `range()` created a list - which costs a lot of memory. In Python 3, it creates a generator, i.e., going from 2 to 3, they removed `xrange()` and made `range()` do the same thing `xrange()` used to do. "
     ]
    }
   ],
   "metadata": {}
  }
 ]
}