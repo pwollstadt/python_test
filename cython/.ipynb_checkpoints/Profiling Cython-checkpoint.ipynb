{
 "metadata": {
  "name": "",
  "signature": "sha256:3c71408c4ebb012589077918bfd96f7bd42b8aee187bf17cb396a90fe6391ec0"
 },
 "nbformat": 3,
 "nbformat_minor": 0,
 "worksheets": [
  {
   "cells": [
    {
     "cell_type": "markdown",
     "metadata": {},
     "source": [
      "##Profiling Cython\n",
      "(Taken from http://docs.cython.org/src/tutorial/profiling_tutorial.html)\n",
      "\n",
      "Profiling in Cython is controlled by a compiler directive. It can be set either for an entire file or on a per function basis via a Cython decorator:\n",
      "\n",
      "```Cython\n",
      "# cython: profile=True\n",
      "```    \n",
      "Once enabled, your Cython code will behave just like Python code when called from the cProfile module. This means you can just profile your Cython code together with your Python code using the same tools as for Python code alone.\n",
      "\n",
      "If you want to disable profiling for single function (e.g. because you are sure that you can\u2019t make them any faster) you can use a special decorator to disable profiling for one function only:\n",
      "\n",
      "```Cython\n",
      "cimport cython\n",
      "\n",
      "@cython.profile(False)\n",
      "def my_often_called_function():\n",
      "   pass\n",
      "```    \n",
      "\n",
      "##Toy example - Basel problem\n",
      "\n",
      "As a toy example, we would like to evaluate the summation of the reciprocals of squares up to a certain integer n for evaluating \\pi. The relation we want to use has been proven by Euler in 1735 and is known as the Basel problem.\n",
      "\n",
      "\\begin{equation*}\n",
      "\\pi^2 = 6 \\sum^{\\infty}_{k=1}{\\frac{1}{k^2}}=6 \\lim_{k\\rightarrow\\infty}\\left(\\frac{1}{1^2}+\\frac{1}{2^2}+\\ldots+\\frac{1}{k^2}\\right)\\approx 6 \\left(\\frac{1}{1^2}+\\frac{1}{2^2}+\\ldots+\\frac{1}{n^2}\\right)\n",
      "\\end{equation*}\n",
      "\n",
      "In Python this reads:"
     ]
    },
    {
     "cell_type": "code",
     "collapsed": false,
     "input": [
      "#!/usr/bin/env python\n",
      "# encoding: utf-8\n",
      "# filename: calc_pi.py\n",
      "\n",
      "def recip_square(i):\n",
      "    return 1./i**2\n",
      "\n",
      "def approx_pi(n=10000000):\n",
      "    val = 0.\n",
      "    for k in range(1,n+1):\n",
      "        val += recip_square(k)\n",
      "    return (6 * val)**.5\n"
     ],
     "language": "python",
     "metadata": {},
     "outputs": [],
     "prompt_number": 3
    },
    {
     "cell_type": "markdown",
     "metadata": {},
     "source": [
      "Remember the golden rule of optimization: Never optimize without having profiled. Let me repeat this: __Never__ optimize without having profiled your code. Your thoughts about which part of your code takes too much time are wrong. So let\u2019s write a short script to profile our code:"
     ]
    },
    {
     "cell_type": "code",
     "collapsed": false,
     "input": [
      "#!/usr/bin/env python\n",
      "# encoding: utf-8\n",
      "# filename: profile.py\n",
      "\n",
      "import pstats, cProfile\n",
      "\n",
      "import calc_pi\n",
      "\n",
      "cProfile.runctx(\"calc_pi.approx_pi()\", globals(), locals(), \"Profile.prof\")\n",
      "\n",
      "s = pstats.Stats(\"Profile.prof\")\n",
      "s.strip_dirs().sort_stats(\"time\").print_stats()"
     ],
     "language": "python",
     "metadata": {},
     "outputs": [
      {
       "output_type": "stream",
       "stream": "stdout",
       "text": [
        "Tue Apr  7 18:00:45 2015    Profile.prof\n",
        "\n",
        "         10000004 function calls in 7.983 seconds\n",
        "\n",
        "   Ordered by: internal time\n",
        "\n",
        "   ncalls  tottime  percall  cumtime  percall filename:lineno(function)\n",
        " 10000000    5.738    0.000    5.738    0.000 calc_pi.py:5(recip_square)\n",
        "        1    2.245    2.245    7.983    7.983 calc_pi.py:8(approx_pi)\n",
        "        1    0.000    0.000    7.983    7.983 {built-in method exec}\n",
        "        1    0.000    0.000    7.983    7.983 <string>:1(<module>)\n",
        "        1    0.000    0.000    0.000    0.000 {method 'disable' of '_lsprof.Profiler' objects}\n",
        "\n",
        "\n"
       ]
      },
      {
       "metadata": {},
       "output_type": "pyout",
       "prompt_number": 26,
       "text": [
        "<pstats.Stats at 0x7f22197cb2e8>"
       ]
      }
     ],
     "prompt_number": 26
    },
    {
     "cell_type": "markdown",
     "metadata": {},
     "source": [
      "This contains the information that the code runs in 6.2 CPU seconds. Note that the code got slower by 2 seconds because it ran inside the cProfile module. The most important columns here are totime (total time spent in this function not counting functions that were called by this function) and cumtime (total time spent in this function also counting the functions called by this function). Looking at the tottime column, we see that approximately half the time is spent in approx_pi and the other half is spent in recip_square. Also half a second is spent in range ... of course we should have used xrange for such a big iteration. And in fact, just changing range to xrange makes the code run in 5.8 seconds.\n",
      "\n",
      "We could optimize a lot in the pure Python version, but since we are interested in Cython, let\u2019s move forward and bring this module to Cython. We would do this anyway at some time to get the loop run faster. Here is our first Cython version:"
     ]
    },
    {
     "cell_type": "code",
     "collapsed": false,
     "input": [
      "# encoding: utf-8\n",
      "# cython: profile=True\n",
      "# filename: calc_pi_cython.pyx\n",
      "\n",
      "def recip_square(int i):\n",
      "    return 1./i**2\n",
      "\n",
      "def approx_pi(int n=10000000):\n",
      "    cdef double val = 0.\n",
      "    cdef int k\n",
      "    for k in xrange(1,n+1):\n",
      "        val += recip_square(k)\n",
      "    return (6 * val)**.5"
     ],
     "language": "python",
     "metadata": {},
     "outputs": []
    },
    {
     "cell_type": "markdown",
     "metadata": {},
     "source": [
      "Note the second line: We have to tell Cython that profiling should be enabled. This makes the Cython code slightly slower, but without this we would not get meaningful output from the cProfile module. The rest of the code is mostly unchanged, I only typed some variables which will likely speed things up a bit.\n",
      "\n",
      "We also need to modify our profiling script to import the Cython module directly (if we manually compiled our `.pyx` file, the `profile` script could stay the same). Here is the complete version adding the import of the `pyximport` module:"
     ]
    },
    {
     "cell_type": "code",
     "collapsed": false,
     "input": [
      "#!/usr/bin/env python\n",
      "# encoding: utf-8\n",
      "# filename: profile_cython.py\n",
      "\n",
      "import pstats, cProfile\n",
      "\n",
      "import pyximport\n",
      "pyximport.install()\n",
      "\n",
      "import calc_pi_cython\n",
      "\n",
      "cProfile.runctx(\"calc_pi_cython.approx_pi()\", globals(), locals(), \"Profile.prof\")\n",
      "\n",
      "s = pstats.Stats(\"Profile.prof\")\n",
      "s.strip_dirs().sort_stats(\"time\").print_stats()"
     ],
     "language": "python",
     "metadata": {},
     "outputs": [
      {
       "output_type": "stream",
       "stream": "stdout",
       "text": [
        "Wed Apr  8 09:39:15 2015    Profile.prof\n",
        "\n",
        "         10000005 function calls in 2.750 seconds\n",
        "\n",
        "   Ordered by: internal time\n",
        "\n",
        "   ncalls  tottime  percall  cumtime  percall filename:lineno(function)\n",
        "        1    2.149    2.149    2.750    2.750 calc_pi_cython.pyx:8(approx_pi)\n",
        " 10000000    0.601    0.000    0.601    0.000 calc_pi_cython.pyx:5(recip_square)\n",
        "        1    0.000    0.000    2.750    2.750 <string>:1(<module>)\n",
        "        1    0.000    0.000    2.750    2.750 {built-in method exec}\n",
        "        1    0.000    0.000    2.750    2.750 {calc_pi_cython.approx_pi}\n",
        "        1    0.000    0.000    0.000    0.000 {method 'disable' of '_lsprof.Profiler' objects}\n",
        "\n",
        "\n"
       ]
      },
      {
       "metadata": {},
       "output_type": "pyout",
       "prompt_number": 2,
       "text": [
        "<pstats.Stats at 0x7f20eb28a908>"
       ]
      }
     ],
     "prompt_number": 2
    },
    {
     "cell_type": "markdown",
     "metadata": {},
     "source": [
      "Comparing the output to the previous, we see that `recip_square` function got faster while the `approx_pi` function has not changed a lot. \n",
      "\n",
      "Let\u2019s concentrate on the `recip_square` function a bit more. First note, that this function is not to be called from code outside of our module; so it would be wise to turn it into a cdef to reduce call overhead. We should also get rid of the power operator: it is turned into a `pow(i,2)` function call by Cython, but we could instead just write `i*i` which could be faster. The whole function is also a good candidate for inlining (compiler optimization that replaces a function call site with the body of the callee). Let\u2019s look at the necessary changes for these ideas:"
     ]
    },
    {
     "cell_type": "code",
     "collapsed": false,
     "input": [
      "# encoding: utf-8\n",
      "# cython: profile=True\n",
      "# filename: calc_pi_inline.pyx\n",
      "\n",
      "cdef inline double recip_square(long i):\n",
      "    return 1./(i*i)\n",
      "\n",
      "def approx_pi(int n=10000000):\n",
      "    cdef double val = 0.\n",
      "    cdef int k\n",
      "    for k in range(1,n+1):\n",
      "        val += recip_square(k)\n",
      "    print(val)\n",
      "    return (6 * val)**.5"
     ],
     "language": "python",
     "metadata": {},
     "outputs": []
    },
    {
     "cell_type": "markdown",
     "metadata": {},
     "source": [
      "(I changed the argument type of `recip_square` from `int` to `long`, it seemed to overflow when inlining. The range of an `int` is not defined in the C standard and varies between operating systems: http://www2.informatik.uni-halle.de/lehre/c/c622.html.)"
     ]
    },
    {
     "cell_type": "code",
     "collapsed": false,
     "input": [
      "#!/usr/bin/env python\n",
      "# encoding: utf-8\n",
      "# filename: profile_inline.py\n",
      "\n",
      "import pstats, cProfile\n",
      "\n",
      "import pyximport\n",
      "pyximport.install()\n",
      "\n",
      "import calc_pi_inline\n",
      "\n",
      "cProfile.runctx(\"calc_pi_inline.approx_pi()\", globals(), locals(), \"Profile.prof\")\n",
      "\n",
      "s = pstats.Stats(\"Profile.prof\")\n",
      "s.strip_dirs().sort_stats(\"time\").print_stats()"
     ],
     "language": "python",
     "metadata": {},
     "outputs": []
    },
    {
     "cell_type": "code",
     "collapsed": false,
     "input": [],
     "language": "python",
     "metadata": {},
     "outputs": []
    }
   ],
   "metadata": {}
  }
 ]
}