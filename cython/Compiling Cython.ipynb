{
 "metadata": {
  "name": "",
  "signature": "sha256:9b89acca21c67314b90ea7c282540307158113ab7aa5a3defd4c325553209b78"
 },
 "nbformat": 3,
 "nbformat_minor": 0,
 "worksheets": [
  {
   "cells": [
    {
     "cell_type": "markdown",
     "metadata": {},
     "source": [
      "## Building Cython code\n",
      "\n",
      "Cython code must, unlike Python, be compiled. This happens in two stages:\n",
      "\n",
      "- A `.pyx` file is compiled by Cython to a `.c` file, containing the code of a Python extension module\n",
      "- The `.c` file is compiled by a C compiler to a `.so` file (or `.pyd` on Windows) which can be import-ed directly into a Python session.\n",
      "\n",
      "There are several ways to build Cython code:\n",
      "\n",
      "- Write a distutils `setup.py`.\n",
      "- Use `pyximport`, importing Cython `.pyx` files as if they were `.py` files (using distutils to compile and build in the background).\n",
      "- Run the cython command-line utility manually to produce the `.c` file from the `.pyx` file, then manually compiling the `.c` file into a shared object library or DLL suitable for import from Python. (These manual steps are mostly for debugging and experimentation.)\n",
      "- Use the IPython notebook or the Sage notebook, both of which allow Cython code inline.\n",
      "\n",
      "Currently, distutils is the most common way Cython files are built and distributed. The other methods are described in more detail in the Source Files and Compilation section of the reference manual.\n",
      "\n",
      "(Source: http://docs.cython.org/src/quickstart/build.html)"
     ]
    },
    {
     "cell_type": "markdown",
     "metadata": {},
     "source": [
      "##Manual compilation"
     ]
    },
    {
     "cell_type": "markdown",
     "metadata": {},
     "source": [
      "Run \n",
      "\n",
      "`> cython my_foo.pyx`\n",
      "\n",
      "to generate C code, which can then be compiled via\n",
      "\n",
      "`> gcc my_foo.c`\n",
      "\n",
      "(On comp14, I needed to tell `gcc` where the Python headers are:\n",
      "https://bbs.archlinux.org/viewtopic.php?id=180538)"
     ]
    },
    {
     "cell_type": "markdown",
     "metadata": {},
     "source": [
      "##Building a Cython module using distutils\n",
      "\n",
      "Imagine a simple \u201chello world\u201d script in a file `hello.pyx`:\n",
      "```Python\n",
      "def say_hello_to(name):\n",
      "    print(\"Hello %s!\" % name)\n",
      "```\n",
      "The following could be a corresponding setup.py script:\n",
      "\n",
      "```Python\n",
      "from distutils.core import setup\n",
      "from Cython.Build import cythonize\n",
      "\n",
      "setup(\n",
      "  name = 'Hello world app',\n",
      "  ext_modules = cythonize(\"hello.pyx\"),\n",
      ")\n",
      "```\n",
      "\n",
      "To build, run `python setup.py build_ext --inplace`. Then simply start a Python session and do `from hello import say_hello_to` and use the imported function as you see fit.\n"
     ]
    },
    {
     "cell_type": "markdown",
     "metadata": {},
     "source": [
      "##pyximport"
     ]
    },
    {
     "cell_type": "markdown",
     "metadata": {},
     "source": [
      "Allows you to import .pyx files directly without the need of a setup.py-file"
     ]
    },
    {
     "cell_type": "code",
     "collapsed": false,
     "input": [
      "import pyximport; pyximport.install()"
     ],
     "language": "python",
     "metadata": {},
     "outputs": [
      {
       "metadata": {},
       "output_type": "pyout",
       "prompt_number": 1,
       "text": [
        "(None, <pyximport.pyximport.PyxImporter at 0x7f8b806d24e0>)"
       ]
      }
     ],
     "prompt_number": 1
    },
    {
     "cell_type": "code",
     "collapsed": false,
     "input": [
      "import hello\n",
      "hello.say_hello_to(\"Patricia\")"
     ],
     "language": "python",
     "metadata": {},
     "outputs": [
      {
       "output_type": "stream",
       "stream": "stdout",
       "text": [
        "Hello Patricia!\n"
       ]
      }
     ],
     "prompt_number": 3
    }
   ],
   "metadata": {}
  }
 ]
}